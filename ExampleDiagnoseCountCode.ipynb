{
 "cells": [
  {
   "cell_type": "code",
   "execution_count": 1,
   "metadata": {},
   "outputs": [],
   "source": [
    "from sqlalchemy import create_engine\n",
    "import datetime\n",
    "import math\n",
    "import pandas as pd\n",
    "import numpy as np"
   ]
  },
  {
   "cell_type": "code",
   "execution_count": 2,
   "metadata": {},
   "outputs": [],
   "source": [
    "def diagnose_counts(diaglist):\n",
    "    #Load Data\n",
    "    #engine = create_engine('postgresql:///goeg?host=/var/run/postgresql')\n",
    "    #st = pd.read_sql_query(\"select * from stays where exit_date BETWEEN '2014-01-01'AND '2016-12-31'\",con=engine).set_index('stay_id')\n",
    "    #sex = pd.read_sql_query('select * from sex',con=engine)\n",
    "    #age = pd.read_sql_query('select * from ag',con=engine)\n",
    "    diagnoses = pd.read_sql_query('select * from diagnoses',con=engine)#,index_col='diagnose_id')\n",
    "    \n",
    "    diagnoses.sort_values('diagnose_id',axis=0,inplace=True)\n",
    "    diagnoses.index = diagnoses['diagnose_id']\n",
    "    print(\"The number of stays in this dataset is: \" +str(st.shape))\n",
    "    st['exit_date'] = st['exit_date'].apply(treat29feb)\n",
    "\n",
    "    \n",
    "    patient_info = st[['patient_no','sex_id','region_q_id']].groupby('patient_no').mean()\n",
    "    print(\"The number of patinets in this dataset is \"+ str(patient_info.shape))\n",
    "    age['min_age'] = np.arange(0,95,5)\n",
    "    age['max_age'] = np.concatenate((np.arange(4,94,5).reshape(18,1),np.array([[110]])))\n",
    "    age.index = age.ag_id\n",
    "    st['max_age'] = st['ag_id'].apply(lambda x: 5*x)\n",
    "    st.loc[st.max_age==94,'max_age'] = 100\n",
    "    \n",
    "    df = st[st['pri_diag_id'].isin([i for i in diaglist])]\n",
    "    \n",
    "    datatime = datetime.datetime(2015, 1, 1)\n",
    "    delta = datatime - pd.to_datetime(df['exit_date'])\n",
    "    #Define an age group ID\n",
    "    df['my_ag_id'] = np.ceil((df['max_age'] + delta.dt.days/365.25)/15).astype(int)\n",
    "    df['my_ag_id'][df['my_ag_id']>6] = 6\n",
    "    df = df.drop('ag_id', axis=1)\n",
    "    \n",
    "    #Count patients within a certain age, sex, region group\n",
    "    df_counts =  df.groupby(['region_q_id', 'my_ag_id', 'sex_id']).size().reset_index()\n",
    "    df_counts.rename({0: 'counts'}, axis='columns', inplace=True)\n",
    "    print(\"the number of patients in this group is: \")\n",
    "    print(df_counts['counts'].sum())\n",
    "    df_counts = df_counts[~ df_counts['region_q_id'].isin([-1, 0])]\n",
    "    index = pd.MultiIndex.from_frame(df_counts[['region_q_id', 'my_ag_id', 'sex_id']])\n",
    "    test = df_counts.set_index(index)['counts']\n",
    "    df_counts = test.unstack([1,2])\n",
    "    print(\"And after removing patients outside austria: \")\n",
    "    print(df_counts.sum().sum())\n",
    "    regions = pd.read_sql_query('select * from regions',con=engine).set_index('region_id')\n",
    "    df_counts = regions.join(df_counts,on='region_id')\n",
    "    df_counts = df_counts.rename(columns={(1, 2):\"F00diag\",(2, 2):\"F15diag\",\n",
    "                                    (3, 2):\"F30diag\",(4, 2):\"F45diag\",\n",
    "                                    (5, 2):\"F60diag\",(6, 2):\"F75diag\",\n",
    "                                    (1, 1):\"M00diag\",(2, 1):\"M15diag\",\n",
    "                                    (3, 1):\"M30diag\",(4, 1):\"M45diag\",\n",
    "                                    (5, 1):\"M60diag\",(6, 1):\"M75diag\",\n",
    "                                    'descr':'Versorgungsregion'\n",
    "                                   })\n",
    "    return df_counts"
   ]
  },
  {
   "cell_type": "code",
   "execution_count": 4,
   "metadata": {},
   "outputs": [
    {
     "data": {
      "text/html": [
       "<div>\n",
       "<style scoped>\n",
       "    .dataframe tbody tr th:only-of-type {\n",
       "        vertical-align: middle;\n",
       "    }\n",
       "\n",
       "    .dataframe tbody tr th {\n",
       "        vertical-align: top;\n",
       "    }\n",
       "\n",
       "    .dataframe thead th {\n",
       "        text-align: right;\n",
       "    }\n",
       "</style>\n",
       "<table border=\"1\" class=\"dataframe\">\n",
       "  <thead>\n",
       "    <tr style=\"text-align: right;\">\n",
       "      <th></th>\n",
       "      <th>ID</th>\n",
       "      <th>chapter</th>\n",
       "      <th>from_ICD</th>\n",
       "      <th>to_ICD</th>\n",
       "      <th>description</th>\n",
       "      <th>diagnosis_ids</th>\n",
       "    </tr>\n",
       "  </thead>\n",
       "  <tbody>\n",
       "    <tr>\n",
       "      <th>32</th>\n",
       "      <td>32</td>\n",
       "      <td>4</td>\n",
       "      <td>E10</td>\n",
       "      <td>E14</td>\n",
       "      <td>Diabetes mellitus</td>\n",
       "      <td>[350, 351, 352, 353, 354]</td>\n",
       "    </tr>\n",
       "  </tbody>\n",
       "</table>\n",
       "</div>"
      ],
      "text/plain": [
       "    ID  chapter from_ICD to_ICD        description              diagnosis_ids\n",
       "32  32        4      E10    E14  Diabetes mellitus  [350, 351, 352, 353, 354]"
      ]
     },
     "execution_count": 4,
     "metadata": {},
     "output_type": "execute_result"
    }
   ],
   "source": [
    "DiagnoseBlocks = pd.read_pickle('./data/blocks.pkl')\n",
    "DiagnoseBlocks[DiagnoseBlocks.description.str.contains('Diabetes')]"
   ]
  },
  {
   "cell_type": "code",
   "execution_count": null,
   "metadata": {},
   "outputs": [],
   "source": [
    "block = DiagnoseBlocks.iloc[32]\n",
    "diaglist = block['diagnosis_ids']\n",
    "disGroupName = block['description'].title().replace(' ', '')\n",
    "print(disGroupName)\n",
    "%time diag_c = diagnose_counts(diaglist)\n",
    "filename = disGroupName + '.csv'\n",
    "diag_c.to_csv(filename)"
   ]
  }
 ],
 "metadata": {
  "kernelspec": {
   "display_name": "Python 3",
   "language": "python",
   "name": "python3"
  },
  "language_info": {
   "codemirror_mode": {
    "name": "ipython",
    "version": 3
   },
   "file_extension": ".py",
   "mimetype": "text/x-python",
   "name": "python",
   "nbconvert_exporter": "python",
   "pygments_lexer": "ipython3",
   "version": "3.7.3"
  }
 },
 "nbformat": 4,
 "nbformat_minor": 2
}
