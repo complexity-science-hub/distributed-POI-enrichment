{
 "cells": [
  {
   "cell_type": "code",
   "execution_count": null,
   "metadata": {
    "ExecuteTime": {
     "end_time": "2019-11-19T07:23:57.918357Z",
     "start_time": "2019-11-19T07:23:57.915901Z"
    }
   },
   "outputs": [],
   "source": [
    "#events_per_user = 2000\n",
    "events_per_user = 200\n",
    "osm_filtered_poi = 'True'\n",
    "#osm_filtered_poi = 'False'\n",
    "#osm_filtered_poi = 'small_cores_parallel'\n",
    "\n",
    "periods = 300\n",
    "#periods = 30\n",
    "#periods = 3"
   ]
  },
  {
   "cell_type": "code",
   "execution_count": null,
   "metadata": {
    "ExecuteTime": {
     "end_time": "2019-11-19T07:23:58.773686Z",
     "start_time": "2019-11-19T07:23:57.919981Z"
    }
   },
   "outputs": [],
   "source": [
    "%pylab inline\n",
    "%load_ext autoreload\n",
    "%autoreload 2\n",
    "\n",
    "import seaborn as sns\n",
    "sns.set(color_codes=True)\n",
    "\n",
    "import pandas as pd\n",
    "\n",
    "pd.set_option('display.max_rows', 5000)\n",
    "pd.set_option('display.max_columns', 500)\n"
   ]
  },
  {
   "cell_type": "code",
   "execution_count": null,
   "metadata": {
    "ExecuteTime": {
     "end_time": "2019-11-19T07:23:58.848032Z",
     "start_time": "2019-11-19T07:23:58.776038Z"
    }
   },
   "outputs": [],
   "source": [
    "log_time_name = 'log1p(time[seconds])'\n",
    "time_name = 'time[seconds]'\n",
    "\n",
    "#pal = 'cubehelix'\n",
    "pal = sns.cubehelix_palette(3, start=2, rot=-1)\n",
    "sns.palplot(pal)\n",
    "\n",
    "pal_comp = 'cubehelix'#sns.cubehelix_palette(2, start=2, rot=-1)\n",
    "#sns.palplot(pal_comp)"
   ]
  },
  {
   "cell_type": "code",
   "execution_count": null,
   "metadata": {
    "ExecuteTime": {
     "end_time": "2019-11-19T07:23:59.003177Z",
     "start_time": "2019-11-19T07:23:58.849838Z"
    }
   },
   "outputs": [],
   "source": [
    "%ls"
   ]
  },
  {
   "cell_type": "code",
   "execution_count": null,
   "metadata": {
    "ExecuteTime": {
     "end_time": "2019-11-19T07:23:59.161812Z",
     "start_time": "2019-11-19T07:23:59.005581Z"
    },
    "scrolled": false
   },
   "outputs": [],
   "source": [
    "from pandas.io.json import json_normalize\n",
    "df = pd.read_parquet(\"results_for_iteration.parquet\")\n",
    "dx = json_normalize(df.results)\n",
    "dx['load'] = df.load\n",
    "dx['periods'] = df.periods\n",
    "dx['base_events_per_user'] = df.base_events_per_user\n",
    "dx['osm_filtered_poi'] = df.osm_filtered_poi\n",
    "display(dx.head())\n",
    "\n",
    "dx = dx.groupby(['base_events_per_user', 'load', 'periods']).count().reset_index()\n",
    "#dx = dx.groupby(['osm_filtered_poi', 'base_events_per_user', 'load']).count().reset_index()\n",
    "#display(dx)\n",
    "dx['load'] = dx['load'].astype(int)\n",
    "dx = dx.drop(['timing'], axis=1)\n",
    "#dx.columns = ['load', 'count']\n",
    "dx.sort_values(['load']).reset_index(drop=True)"
   ]
  },
  {
   "cell_type": "code",
   "execution_count": null,
   "metadata": {
    "ExecuteTime": {
     "end_time": "2019-11-19T07:23:59.246124Z",
     "start_time": "2019-11-19T07:23:59.164056Z"
    }
   },
   "outputs": [],
   "source": [
    "from pandas.io.json import json_normalize\n",
    "df = pd.read_parquet(\"results_for_iteration.parquet\")\n",
    "dx = json_normalize(df.results)\n",
    "dx['load'] = df.load\n",
    "dx['periods'] = df.periods\n",
    "dx['base_events_per_user'] = df.base_events_per_user\n",
    "dx['osm_filtered_poi'] = df.osm_filtered_poi\n",
    "df= dx\n",
    "df['results__key'] = df['key']\n",
    "df['results__timing'] = df['timing']\n",
    "df = df.drop(['key', 'timing'], axis=1)\n",
    "\n",
    "\n",
    "df.load = df.load.astype(int)\n",
    "#display(df['load'].value_counts().reset_index().sort_values(['index']))\n",
    "df = df.sort_values(by=['load'], ascending=True)\n",
    "df = df.reset_index(drop=True)\n",
    "df['load (users)'] = df.load\n",
    "df[time_name] = df.results__timing\n",
    "df['variant'] = df.results__key\n",
    "df = df.drop(['load', 'results__timing', 'results__key'], axis=1)\n",
    "df.head()"
   ]
  },
  {
   "cell_type": "code",
   "execution_count": null,
   "metadata": {
    "ExecuteTime": {
     "end_time": "2019-11-19T07:23:59.442123Z",
     "start_time": "2019-11-19T07:23:59.248135Z"
    }
   },
   "outputs": [],
   "source": [
    "print(df.variant.unique())\n",
    "df.loc[df.variant == 'LocalityPreserving', 'variant'] = '(3) LocalityPreserving'\n",
    "df.loc[df.variant == 'DistributedAlreadyExplodedNoLocalityPreservedOnlyInnerJoin', 'variant'] = '(1) DistributedAlreadyExplodedNoLocalityPreservedOnlyInnerJoin'\n",
    "df.loc[df.variant == 'DistributedWithExplode', 'variant'] = '(2) DistributedWithExplode'\n",
    "print(df.variant.unique())\n",
    "\n",
    "df = df.sort_values(['variant'])\n",
    "df[log_time_name] = np.log1p(df[time_name])\n",
    "df.osm_filtered_poi = df.osm_filtered_poi.astype(str)\n",
    "\n",
    "df.to_csv('cleaned.csv', index=False)"
   ]
  },
  {
   "cell_type": "code",
   "execution_count": null,
   "metadata": {
    "ExecuteTime": {
     "end_time": "2019-11-19T07:23:59.468466Z",
     "start_time": "2019-11-19T07:23:59.444637Z"
    }
   },
   "outputs": [],
   "source": [
    "# df = df[df['load (users)'] < 2048]"
   ]
  },
  {
   "cell_type": "code",
   "execution_count": null,
   "metadata": {
    "ExecuteTime": {
     "end_time": "2019-11-17T20:33:29.495912Z",
     "start_time": "2019-11-17T20:33:29.462867Z"
    }
   },
   "outputs": [],
   "source": []
  },
  {
   "cell_type": "code",
   "execution_count": null,
   "metadata": {
    "ExecuteTime": {
     "end_time": "2019-11-19T07:23:59.505305Z",
     "start_time": "2019-11-19T07:23:59.471475Z"
    }
   },
   "outputs": [],
   "source": [
    "df_f = df[(df.osm_filtered_poi == osm_filtered_poi)\n",
    "          & (df.base_events_per_user == events_per_user)\n",
    "          & (df.periods == periods)\n",
    "         ]\n",
    "df_f['load (users)'].value_counts()\n",
    "\n",
    "fig_space = 0.16"
   ]
  },
  {
   "cell_type": "code",
   "execution_count": null,
   "metadata": {
    "ExecuteTime": {
     "end_time": "2019-11-19T07:23:59.541548Z",
     "start_time": "2019-11-19T07:23:59.506899Z"
    }
   },
   "outputs": [],
   "source": [
    "df_f.head()"
   ]
  },
  {
   "cell_type": "code",
   "execution_count": null,
   "metadata": {
    "ExecuteTime": {
     "end_time": "2019-11-19T07:23:59.569754Z",
     "start_time": "2019-11-19T07:23:59.543125Z"
    }
   },
   "outputs": [],
   "source": [
    "sns.set(font_scale=1.7)"
   ]
  },
  {
   "cell_type": "code",
   "execution_count": null,
   "metadata": {
    "ExecuteTime": {
     "end_time": "2019-11-19T07:24:00.266609Z",
     "start_time": "2019-11-19T07:23:59.571412Z"
    }
   },
   "outputs": [],
   "source": [
    "a4_dims = (15, 8)\n",
    "fig, ax = pyplot.subplots(figsize=a4_dims)\n",
    "g = sns.barplot(x=\"load (users)\", y=time_name, hue=\"variant\", data=df_f)\n",
    "g.set_xticklabels(g.get_xticklabels(), rotation=45)\n",
    "plt.gcf().subplots_adjust(bottom=fig_space)\n",
    "g.get_figure().savefig(f\"../publication/images/bar_regular_{events_per_user}_{osm_filtered_poi}_{periods}.png\")"
   ]
  },
  {
   "cell_type": "code",
   "execution_count": null,
   "metadata": {
    "ExecuteTime": {
     "end_time": "2019-11-19T07:24:01.012998Z",
     "start_time": "2019-11-19T07:24:00.268470Z"
    }
   },
   "outputs": [],
   "source": [
    "a4_dims = (15, 8)\n",
    "fig, ax = pyplot.subplots(figsize=a4_dims)\n",
    "g = sns.barplot(x=\"load (users)\", y=log_time_name, hue=\"variant\", data=df_f)\n",
    "g.set_xticklabels(g.get_xticklabels(), rotation=45)\n",
    "plt.gcf().subplots_adjust(bottom=fig_space)\n",
    "g.get_figure().savefig(f\"../publication/images/bar_log_{events_per_user}_{osm_filtered_poi}_{periods}.png\")"
   ]
  },
  {
   "cell_type": "code",
   "execution_count": null,
   "metadata": {
    "ExecuteTime": {
     "end_time": "2019-11-19T07:24:01.651047Z",
     "start_time": "2019-11-19T07:24:01.015004Z"
    }
   },
   "outputs": [],
   "source": [
    "sns.set_style(style='whitegrid')\n",
    "#sns.set_style(style='white')\n",
    "a4_dims = (15, 8)\n",
    "fig, ax = pyplot.subplots(figsize=a4_dims)\n",
    "g = sns.pointplot(x=\"load (users)\", y=time_name, hue=\"variant\", data=df_f, palette=pal)\n",
    "g.set_xticklabels(g.get_xticklabels(), rotation=45)\n",
    "plt.gcf().subplots_adjust(bottom=fig_space)\n",
    "g.get_figure().savefig(f\"../publication/images/line_white_regular_{events_per_user}_{osm_filtered_poi}_{periods}.png\")"
   ]
  },
  {
   "cell_type": "code",
   "execution_count": null,
   "metadata": {
    "ExecuteTime": {
     "end_time": "2019-11-19T07:24:02.371524Z",
     "start_time": "2019-11-19T07:24:01.652839Z"
    }
   },
   "outputs": [],
   "source": [
    "sns.set_style(style='whitegrid')\n",
    "a4_dims = (15, 8)\n",
    "fig, ax = pyplot.subplots(figsize=a4_dims)\n",
    "g = sns.pointplot(x=\"load (users)\", y=log_time_name, hue=\"variant\", data=df_f, palette=pal)\n",
    "g.set_xticklabels(g.get_xticklabels(), rotation=45)\n",
    "plt.gcf().subplots_adjust(bottom=fig_space)\n",
    "g.get_figure().savefig(f\"../publication/images/line_white_log_{events_per_user}_{osm_filtered_poi}_{periods}.png\")"
   ]
  },
  {
   "cell_type": "code",
   "execution_count": null,
   "metadata": {
    "ExecuteTime": {
     "end_time": "2019-11-19T07:24:02.404036Z",
     "start_time": "2019-11-19T07:24:02.373469Z"
    }
   },
   "outputs": [],
   "source": [
    "df.head()"
   ]
  },
  {
   "cell_type": "code",
   "execution_count": null,
   "metadata": {
    "ExecuteTime": {
     "end_time": "2019-11-19T07:24:02.847464Z",
     "start_time": "2019-11-19T07:24:02.405318Z"
    }
   },
   "outputs": [],
   "source": [
    "d_plot = df[(df.osm_filtered_poi == osm_filtered_poi) & (df.periods == periods)]\n",
    "for v in sorted(d_plot.variant.unique()):\n",
    "    print(v)\n",
    "    d_pp =d_plot[d_plot.variant == v]\n",
    "    #dx = d_pp.base_events_per_user.value_counts()\n",
    "    #not_indcluded = list(dx[dx< 1].index) # no records\n",
    "    \n",
    "    sns.set_style(style='whitegrid')\n",
    "    a4_dims = (15, 8)\n",
    "    fig, ax = pyplot.subplots(figsize=a4_dims)\n",
    "    g = sns.pointplot(x=\"load (users)\", y=log_time_name, hue='base_events_per_user', palette=pal_comp,\n",
    "                      #markers=[\"o\", \"x\", 'd'], linestyles=[\"-\", \"--\", '---'],\n",
    "                      data=d_pp)\n",
    "    g.set_xticklabels(g.get_xticklabels(), rotation=45)\n",
    "    plt.title(v)\n",
    "    plt.gcf().subplots_adjust(bottom=fig_space)\n",
    "    g.get_figure().savefig(f\"../publication/images/run_comparison_{v}_{osm_filtered_poi}_{periods}.png\")"
   ]
  },
  {
   "cell_type": "markdown",
   "metadata": {},
   "source": [
    "# Compare more CPU cores"
   ]
  },
  {
   "cell_type": "code",
   "execution_count": null,
   "metadata": {
    "ExecuteTime": {
     "end_time": "2019-11-19T07:24:02.850749Z",
     "start_time": "2019-11-19T07:23:57.938Z"
    }
   },
   "outputs": [],
   "source": [
    "d_plot = df[(df.osm_filtered_poi == 'small_cores_parallel')& (df.base_events_per_user == events_per_user)]"
   ]
  },
  {
   "cell_type": "code",
   "execution_count": null,
   "metadata": {
    "ExecuteTime": {
     "end_time": "2019-11-19T07:24:02.851941Z",
     "start_time": "2019-11-19T07:23:57.939Z"
    }
   },
   "outputs": [],
   "source": [
    "print(len(d_plot))\n",
    "d_plot.base_events_per_user = d_plot.base_events_per_user.astype(int)\n",
    "#d_plot.base_events_per_user.value_counts()\n",
    "d_plot.head()"
   ]
  },
  {
   "cell_type": "code",
   "execution_count": null,
   "metadata": {
    "ExecuteTime": {
     "end_time": "2019-11-19T07:24:02.853099Z",
     "start_time": "2019-11-19T07:23:57.940Z"
    },
    "scrolled": false
   },
   "outputs": [],
   "source": [
    "for v in sorted(d_plot.variant.unique()):\n",
    "    print(v)\n",
    "    d_pp =d_plot[d_plot.variant == v]\n",
    "    dx = d_pp.base_events_per_user.value_counts()\n",
    "    print(dx)\n",
    "    #not_indcluded = list(dx[dx< 1].index) # no records\n",
    "    \n",
    "    sns.set_style(style='whitegrid')\n",
    "    a4_dims = (15, 8)\n",
    "    fig, ax = pyplot.subplots(figsize=a4_dims)\n",
    "    g = sns.pointplot(x=\"load (users)\", y=log_time_name, hue='osm_filtered_poi',palette=pal_comp,\n",
    "                      #markers=[\"o\", \"x\", 'd'], linestyles=[\"-\", \"--\", '---'],\n",
    "                      data=d_pp)\n",
    "    g.set_xticklabels(g.get_xticklabels(), rotation=45)\n",
    "    plt.title(v)\n",
    "    #plt.gcf().subplots_adjust(bottom=fig_space)\n",
    "    #g.get_figure().savefig(f\"../publication/images/run_comparison_{v}_{osm_filtered_poi}_{periods}.png\")"
   ]
  },
  {
   "cell_type": "code",
   "execution_count": null,
   "metadata": {},
   "outputs": [],
   "source": []
  }
 ],
 "metadata": {
  "kernelspec": {
   "display_name": "Python 3",
   "language": "python",
   "name": "python3"
  },
  "language_info": {
   "codemirror_mode": {
    "name": "ipython",
    "version": 3
   },
   "file_extension": ".py",
   "mimetype": "text/x-python",
   "name": "python",
   "nbconvert_exporter": "python",
   "pygments_lexer": "ipython3",
   "version": "3.7.3"
  }
 },
 "nbformat": 4,
 "nbformat_minor": 2
}
