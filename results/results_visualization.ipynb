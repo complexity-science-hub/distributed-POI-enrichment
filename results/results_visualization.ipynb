{
 "cells": [
  {
   "cell_type": "code",
   "execution_count": null,
   "metadata": {
    "ExecuteTime": {
     "end_time": "2019-11-15T07:46:59.020455Z",
     "start_time": "2019-11-15T07:46:57.662983Z"
    }
   },
   "outputs": [],
   "source": [
    "%pylab inline\n",
    "%load_ext autoreload\n",
    "%autoreload 2\n",
    "\n",
    "import seaborn as sns\n",
    "sns.set(color_codes=True)\n",
    "\n",
    "import pandas as pd"
   ]
  },
  {
   "cell_type": "code",
   "execution_count": null,
   "metadata": {
    "ExecuteTime": {
     "end_time": "2019-11-15T07:46:59.171577Z",
     "start_time": "2019-11-15T07:46:59.022724Z"
    }
   },
   "outputs": [],
   "source": [
    "%ls"
   ]
  },
  {
   "cell_type": "code",
   "execution_count": null,
   "metadata": {
    "ExecuteTime": {
     "end_time": "2019-11-15T07:46:59.299009Z",
     "start_time": "2019-11-15T07:46:59.174567Z"
    }
   },
   "outputs": [],
   "source": [
    "from pandas.io.json import json_normalize\n",
    "df = pd.read_parquet(\"results_for_iteration.parquet\")\n",
    "dx = json_normalize(df.results)\n",
    "dx['load'] = df.load\n",
    "dx['base_events_per_user'] = df.base_events_per_user\n",
    "dx['osm_filtered_poi'] = df.osm_filtered_poi\n",
    "df= dx\n",
    "df['results__key'] = df['key']\n",
    "df['results__timing'] = df['timing']\n",
    "df = df.drop(['key', 'timing'], axis=1)\n",
    "\n",
    "\n",
    "df.load = df.load.astype(int)\n",
    "df = df.sort_values(by=['load'], ascending=True)\n",
    "df = df.reset_index(drop=True)\n",
    "df['load (users)'] = df.load\n",
    "df['time in secons (avg of 5 runs each)'] = df.results__timing\n",
    "df['variant'] = df.results__key\n",
    "df = df.drop(['load', 'results__timing', 'results__key'], axis=1)\n",
    "df.head()"
   ]
  },
  {
   "cell_type": "code",
   "execution_count": null,
   "metadata": {
    "ExecuteTime": {
     "end_time": "2019-11-15T07:46:59.331250Z",
     "start_time": "2019-11-15T07:46:59.301913Z"
    }
   },
   "outputs": [],
   "source": [
    "print(df.base_events_per_user.unique())\n",
    "# events_per_user = 2000\n",
    "osm_filtered_poi = 'True'\n",
    "#osm_filtered_poi = 'False'\n",
    "events_per_user = 200\n",
    "df = df[(df.base_events_per_user == events_per_user) & (df.osm_filtered_poi== osm_filtered_poi)]"
   ]
  },
  {
   "cell_type": "code",
   "execution_count": null,
   "metadata": {
    "ExecuteTime": {
     "end_time": "2019-11-15T07:46:59.608757Z",
     "start_time": "2019-11-15T07:46:59.332966Z"
    }
   },
   "outputs": [],
   "source": [
    "print(df.variant.unique())\n",
    "df.loc[df.variant == 'LocalityPreserving', 'variant'] = '(3) LocalityPreserving'\n",
    "df.loc[df.variant == 'DistributedAlreadyExplodedNoLocalityPreservedOnlyInnerJoin', 'variant'] = '(1) DistributedAlreadyExplodedNoLocalityPreservedOnlyInnerJoin'\n",
    "df.loc[df.variant == 'DistributedWithExplode', 'variant'] = '(2) DistributedWithExplode'\n",
    "print(df.variant.unique())\n",
    "\n",
    "df = df.sort_values(['variant'])\n",
    "\n",
    "df.to_csv('cleaned.csv', index=False)"
   ]
  },
  {
   "cell_type": "code",
   "execution_count": null,
   "metadata": {
    "ExecuteTime": {
     "end_time": "2019-11-15T07:46:59.633385Z",
     "start_time": "2019-11-15T07:46:59.610178Z"
    }
   },
   "outputs": [],
   "source": [
    "sns.set(font_scale=1.7)"
   ]
  },
  {
   "cell_type": "code",
   "execution_count": null,
   "metadata": {
    "ExecuteTime": {
     "end_time": "2019-11-15T07:47:00.663377Z",
     "start_time": "2019-11-15T07:46:59.635555Z"
    }
   },
   "outputs": [],
   "source": [
    "a4_dims = (15, 8)\n",
    "fig, ax = pyplot.subplots(figsize=a4_dims)\n",
    "df[\"log1p(time) in secons (avg of 5 runs each)\"] = np.log1p(df[\"time in secons (avg of 5 runs each)\"])\n",
    "g = sns.barplot(x=\"load (users)\", y=\"time in secons (avg of 5 runs each)\", hue=\"variant\", data=df)\n",
    "g.set_xticklabels(g.get_xticklabels(), rotation=45)\n",
    "\n",
    "g.get_figure().savefig(f\"../publication/images/bar_regular_{events_per_user}_{osm_filtered_poi}.png\")"
   ]
  },
  {
   "cell_type": "code",
   "execution_count": null,
   "metadata": {
    "ExecuteTime": {
     "end_time": "2019-11-15T07:47:01.785556Z",
     "start_time": "2019-11-15T07:47:00.665472Z"
    }
   },
   "outputs": [],
   "source": [
    "a4_dims = (15, 8)\n",
    "fig, ax = pyplot.subplots(figsize=a4_dims)\n",
    "g = sns.barplot(x=\"load (users)\", y=\"log1p(time) in secons (avg of 5 runs each)\", hue=\"variant\", data=df)\n",
    "g.set_xticklabels(g.get_xticklabels(), rotation=45)\n",
    "\n",
    "g.get_figure().savefig(f\"../publication/images/bar_log_{events_per_user}_{osm_filtered_poi}.png\")"
   ]
  },
  {
   "cell_type": "code",
   "execution_count": null,
   "metadata": {
    "ExecuteTime": {
     "end_time": "2019-11-15T07:47:03.620871Z",
     "start_time": "2019-11-15T07:47:02.728759Z"
    }
   },
   "outputs": [],
   "source": [
    "sns.set_style(style='white')\n",
    "a4_dims = (15, 8)\n",
    "fig, ax = pyplot.subplots(figsize=a4_dims)\n",
    "g = sns.pointplot(x=\"load (users)\", y=\"time in secons (avg of 5 runs each)\", hue=\"variant\", data=df)\n",
    "g.set_xticklabels(g.get_xticklabels(), rotation=45)\n",
    "g.get_figure().savefig(f\"../publication/images/line_white_regular_{events_per_user}_{osm_filtered_poi}.png\")"
   ]
  },
  {
   "cell_type": "code",
   "execution_count": null,
   "metadata": {
    "ExecuteTime": {
     "end_time": "2019-11-15T07:47:03.620871Z",
     "start_time": "2019-11-15T07:47:02.728759Z"
    }
   },
   "outputs": [],
   "source": [
    "sns.set_style(style='white')\n",
    "a4_dims = (15, 8)\n",
    "fig, ax = pyplot.subplots(figsize=a4_dims)\n",
    "g = sns.pointplot(x=\"load (users)\", y=\"log1p(time) in secons (avg of 5 runs each)\", hue=\"variant\", data=df)\n",
    "g.set_xticklabels(g.get_xticklabels(), rotation=45)\n",
    "\n",
    "g.get_figure().savefig(f\"../publication/images/line_white_log_{events_per_user}_{osm_filtered_poi}.png\")"
   ]
  },
  {
   "cell_type": "code",
   "execution_count": null,
   "metadata": {
    "ExecuteTime": {
     "end_time": "2019-11-15T07:39:12.766979Z",
     "start_time": "2019-11-15T07:39:12.661956Z"
    }
   },
   "outputs": [],
   "source": []
  },
  {
   "cell_type": "code",
   "execution_count": null,
   "metadata": {},
   "outputs": [],
   "source": []
  }
 ],
 "metadata": {
  "kernelspec": {
   "display_name": "Python 3",
   "language": "python",
   "name": "python3"
  },
  "language_info": {
   "codemirror_mode": {
    "name": "ipython",
    "version": 3
   },
   "file_extension": ".py",
   "mimetype": "text/x-python",
   "name": "python",
   "nbconvert_exporter": "python",
   "pygments_lexer": "ipython3",
   "version": "3.7.3"
  }
 },
 "nbformat": 4,
 "nbformat_minor": 2
}
