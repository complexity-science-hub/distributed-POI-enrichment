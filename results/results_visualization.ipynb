{
 "cells": [
  {
   "cell_type": "code",
   "execution_count": null,
   "metadata": {
    "ExecuteTime": {
     "end_time": "2019-09-17T09:00:53.684708Z",
     "start_time": "2019-09-17T09:00:51.761485Z"
    }
   },
   "outputs": [],
   "source": [
    "%pylab inline\n",
    "%load_ext autoreload\n",
    "%autoreload 2\n",
    "\n",
    "import seaborn as sns\n",
    "sns.set(color_codes=True)\n",
    "\n",
    "import pandas as pd"
   ]
  },
  {
   "cell_type": "code",
   "execution_count": null,
   "metadata": {
    "ExecuteTime": {
     "end_time": "2019-09-17T09:00:53.851163Z",
     "start_time": "2019-09-17T09:00:53.686771Z"
    }
   },
   "outputs": [],
   "source": [
    "%ls"
   ]
  },
  {
   "cell_type": "code",
   "execution_count": null,
   "metadata": {
    "ExecuteTime": {
     "end_time": "2019-09-17T09:37:44.279589Z",
     "start_time": "2019-09-17T09:37:44.209346Z"
    }
   },
   "outputs": [],
   "source": [
    "from pandas.io.json import json_normalize\n",
    "df = pd.read_parquet(\"results_for_iteration.parquet\")\n",
    "dx = json_normalize(df.results)\n",
    "dx['load'] = df.load\n",
    "df= dx\n",
    "df['results__key'] = df['key']\n",
    "df['results__timing'] = df['timing']\n",
    "df = df.drop(['key', 'timing'], axis=1)\n",
    "\n",
    "\n",
    "df.load = df.load.astype(int)\n",
    "df = df.sort_values(by=['load'], ascending=True)\n",
    "df = df.reset_index(drop=True)\n",
    "df['load (users)'] = df.load\n",
    "df['time in secons (avg of 5 runs each)'] = df.results__timing\n",
    "df['variant'] = df.results__key\n",
    "df = df.drop(['load', 'results__timing', 'results__key'], axis=1)\n",
    "df.head()"
   ]
  },
  {
   "cell_type": "code",
   "execution_count": null,
   "metadata": {
    "ExecuteTime": {
     "end_time": "2019-09-17T09:38:26.352725Z",
     "start_time": "2019-09-17T09:38:26.311563Z"
    }
   },
   "outputs": [],
   "source": [
    "print(df.variant.unique())\n",
    "df.loc[df.variant == 'LocalityPreserving', 'variant'] = '(3) LocalityPreserving'\n",
    "df.loc[df.variant == 'DistributedAlreadyExplodedNoLocalityPreservedOnlyInnerJoin', 'variant'] = '(1) DistributedAlreadyExplodedNoLocalityPreservedOnlyInnerJoin'\n",
    "df.loc[df.variant == 'DistributedWithExplode', 'variant'] = '(2) DistributedWithExplode'\n",
    "print(df.variant.unique())\n",
    "\n",
    "df = df.sort_values(['variant'])"
   ]
  },
  {
   "cell_type": "code",
   "execution_count": null,
   "metadata": {
    "ExecuteTime": {
     "end_time": "2019-09-17T09:38:27.444093Z",
     "start_time": "2019-09-17T09:38:27.416748Z"
    }
   },
   "outputs": [],
   "source": [
    "sns.set(font_scale=1.7)"
   ]
  },
  {
   "cell_type": "code",
   "execution_count": null,
   "metadata": {
    "ExecuteTime": {
     "end_time": "2019-09-17T09:38:28.712465Z",
     "start_time": "2019-09-17T09:38:27.745254Z"
    }
   },
   "outputs": [],
   "source": [
    "a4_dims = (15, 8)\n",
    "fig, ax = pyplot.subplots(figsize=a4_dims)\n",
    "df[\"log1p(time) in secons (avg of 5 runs each)\"] = np.log1p(df[\"time in secons (avg of 5 runs each)\"])\n",
    "g = sns.barplot(x=\"load (users)\", y=\"time in secons (avg of 5 runs each)\", hue=\"variant\", data=df)\n",
    "g.set_xticklabels(g.get_xticklabels(), rotation=45)"
   ]
  },
  {
   "cell_type": "code",
   "execution_count": null,
   "metadata": {
    "ExecuteTime": {
     "end_time": "2019-09-17T09:38:29.733159Z",
     "start_time": "2019-09-17T09:38:28.714360Z"
    }
   },
   "outputs": [],
   "source": [
    "a4_dims = (15, 8)\n",
    "fig, ax = pyplot.subplots(figsize=a4_dims)\n",
    "g = sns.barplot(x=\"load (users)\", y=\"log1p(time) in secons (avg of 5 runs each)\", hue=\"variant\", data=df)\n",
    "g.set_xticklabels(g.get_xticklabels(), rotation=45)"
   ]
  },
  {
   "cell_type": "code",
   "execution_count": null,
   "metadata": {},
   "outputs": [],
   "source": []
  },
  {
   "cell_type": "code",
   "execution_count": null,
   "metadata": {},
   "outputs": [],
   "source": []
  }
 ],
 "metadata": {
  "kernelspec": {
   "display_name": "Python 3",
   "language": "python",
   "name": "python3"
  },
  "language_info": {
   "codemirror_mode": {
    "name": "ipython",
    "version": 3
   },
   "file_extension": ".py",
   "mimetype": "text/x-python",
   "name": "python",
   "nbconvert_exporter": "python",
   "pygments_lexer": "ipython3",
   "version": "3.7.3"
  }
 },
 "nbformat": 4,
 "nbformat_minor": 2
}
