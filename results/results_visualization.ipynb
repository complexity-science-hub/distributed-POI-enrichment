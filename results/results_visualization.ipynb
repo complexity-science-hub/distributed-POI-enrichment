{
 "cells": [
  {
   "cell_type": "code",
   "execution_count": null,
   "metadata": {
    "ExecuteTime": {
     "end_time": "2019-11-15T19:18:04.511583Z",
     "start_time": "2019-11-15T19:18:03.177794Z"
    }
   },
   "outputs": [],
   "source": [
    "%pylab inline\n",
    "%load_ext autoreload\n",
    "%autoreload 2\n",
    "\n",
    "import seaborn as sns\n",
    "sns.set(color_codes=True)\n",
    "\n",
    "import pandas as pd\n",
    "\n",
    "pd.set_option('display.max_rows', 5000)\n",
    "pd.set_option('display.max_columns', 500)\n"
   ]
  },
  {
   "cell_type": "code",
   "execution_count": null,
   "metadata": {
    "ExecuteTime": {
     "end_time": "2019-11-15T19:18:04.664103Z",
     "start_time": "2019-11-15T19:18:04.513705Z"
    }
   },
   "outputs": [],
   "source": [
    "%ls"
   ]
  },
  {
   "cell_type": "code",
   "execution_count": null,
   "metadata": {
    "ExecuteTime": {
     "end_time": "2019-11-15T19:18:04.800291Z",
     "start_time": "2019-11-15T19:18:04.667142Z"
    },
    "scrolled": false
   },
   "outputs": [],
   "source": [
    "from pandas.io.json import json_normalize\n",
    "df = pd.read_parquet(\"results_for_iteration.parquet\")\n",
    "dx = json_normalize(df.results)\n",
    "dx['load'] = df.load\n",
    "dx['base_events_per_user'] = df.base_events_per_user\n",
    "dx['osm_filtered_poi'] = df.osm_filtered_poi\n",
    "display(dx.head())\n",
    "\n",
    "dx = dx.groupby(['base_events_per_user', 'load']).count().reset_index()\n",
    "#dx = dx.groupby(['osm_filtered_poi', 'base_events_per_user', 'load']).count().reset_index()\n",
    "#display(dx)\n",
    "dx['load'] = dx['load'].astype(int)\n",
    "dx = dx.drop(['timing'], axis=1)\n",
    "#dx.columns = ['load', 'count']\n",
    "dx.sort_values(['load']).reset_index(drop=True)"
   ]
  },
  {
   "cell_type": "code",
   "execution_count": null,
   "metadata": {
    "ExecuteTime": {
     "end_time": "2019-11-15T19:18:04.869362Z",
     "start_time": "2019-11-15T19:18:04.801959Z"
    }
   },
   "outputs": [],
   "source": [
    "from pandas.io.json import json_normalize\n",
    "df = pd.read_parquet(\"results_for_iteration.parquet\")\n",
    "dx = json_normalize(df.results)\n",
    "dx['load'] = df.load\n",
    "dx['base_events_per_user'] = df.base_events_per_user\n",
    "dx['osm_filtered_poi'] = df.osm_filtered_poi\n",
    "df= dx\n",
    "df['results__key'] = df['key']\n",
    "df['results__timing'] = df['timing']\n",
    "df = df.drop(['key', 'timing'], axis=1)\n",
    "\n",
    "\n",
    "df.load = df.load.astype(int)\n",
    "#display(df['load'].value_counts().reset_index().sort_values(['index']))\n",
    "df = df.sort_values(by=['load'], ascending=True)\n",
    "df = df.reset_index(drop=True)\n",
    "df['load (users)'] = df.load\n",
    "df['time in secons (avg of 5 runs each)'] = df.results__timing\n",
    "df['variant'] = df.results__key\n",
    "df = df.drop(['load', 'results__timing', 'results__key'], axis=1)\n",
    "df.head()"
   ]
  },
  {
   "cell_type": "code",
   "execution_count": null,
   "metadata": {
    "ExecuteTime": {
     "end_time": "2019-11-15T19:18:05.218729Z",
     "start_time": "2019-11-15T19:18:04.871246Z"
    }
   },
   "outputs": [],
   "source": [
    "print(df.variant.unique())\n",
    "df.loc[df.variant == 'LocalityPreserving', 'variant'] = '(3) LocalityPreserving'\n",
    "df.loc[df.variant == 'DistributedAlreadyExplodedNoLocalityPreservedOnlyInnerJoin', 'variant'] = '(1) DistributedAlreadyExplodedNoLocalityPreservedOnlyInnerJoin'\n",
    "df.loc[df.variant == 'DistributedWithExplode', 'variant'] = '(2) DistributedWithExplode'\n",
    "print(df.variant.unique())\n",
    "\n",
    "df = df.sort_values(['variant'])\n",
    "df[\"log1p(time) in secons (avg of 5 runs each)\"] = np.log1p(df[\"time in secons (avg of 5 runs each)\"])\n",
    "\n",
    "df.to_csv('cleaned.csv', index=False)"
   ]
  },
  {
   "cell_type": "code",
   "execution_count": null,
   "metadata": {
    "ExecuteTime": {
     "end_time": "2019-11-15T19:18:05.242802Z",
     "start_time": "2019-11-15T19:18:05.220487Z"
    }
   },
   "outputs": [],
   "source": [
    "# df = df[df['load (users)'] < 2048]"
   ]
  },
  {
   "cell_type": "code",
   "execution_count": null,
   "metadata": {
    "ExecuteTime": {
     "end_time": "2019-11-15T19:19:53.679972Z",
     "start_time": "2019-11-15T19:19:53.590597Z"
    }
   },
   "outputs": [],
   "source": [
    "#events_per_user = 2000\n",
    "osm_filtered_poi = 'True'\n",
    "#osm_filtered_poi = 'False'\n",
    "events_per_user = 200\n",
    "df_f = df[(df.base_events_per_user == events_per_user) & (df.osm_filtered_poi== osm_filtered_poi)]\n",
    "df_f['load (users)'].value_counts()\n",
    "\n",
    "fig_space = 0.16"
   ]
  },
  {
   "cell_type": "code",
   "execution_count": null,
   "metadata": {
    "ExecuteTime": {
     "end_time": "2019-11-15T19:18:05.300149Z",
     "start_time": "2019-11-15T19:18:05.273429Z"
    }
   },
   "outputs": [],
   "source": [
    "sns.set(font_scale=1.7)"
   ]
  },
  {
   "cell_type": "code",
   "execution_count": null,
   "metadata": {
    "ExecuteTime": {
     "end_time": "2019-11-15T19:18:06.343853Z",
     "start_time": "2019-11-15T19:18:05.301913Z"
    }
   },
   "outputs": [],
   "source": [
    "a4_dims = (15, 8)\n",
    "fig, ax = pyplot.subplots(figsize=a4_dims)\n",
    "g = sns.barplot(x=\"load (users)\", y=\"time in secons (avg of 5 runs each)\", hue=\"variant\", data=df_f)\n",
    "g.set_xticklabels(g.get_xticklabels(), rotation=45)\n",
    "plt.gcf().subplots_adjust(bottom=fig_space)\n",
    "g.get_figure().savefig(f\"../publication/images/bar_regular_{events_per_user}_{osm_filtered_poi}.png\")"
   ]
  },
  {
   "cell_type": "code",
   "execution_count": null,
   "metadata": {
    "ExecuteTime": {
     "end_time": "2019-11-15T19:18:07.469791Z",
     "start_time": "2019-11-15T19:18:06.345636Z"
    }
   },
   "outputs": [],
   "source": [
    "a4_dims = (15, 8)\n",
    "fig, ax = pyplot.subplots(figsize=a4_dims)\n",
    "g = sns.barplot(x=\"load (users)\", y=\"log1p(time) in secons (avg of 5 runs each)\", hue=\"variant\", data=df_f)\n",
    "g.set_xticklabels(g.get_xticklabels(), rotation=45)\n",
    "plt.gcf().subplots_adjust(bottom=fig_space)\n",
    "g.get_figure().savefig(f\"../publication/images/bar_log_{events_per_user}_{osm_filtered_poi}.png\")"
   ]
  },
  {
   "cell_type": "code",
   "execution_count": null,
   "metadata": {
    "ExecuteTime": {
     "end_time": "2019-11-15T19:20:06.710317Z",
     "start_time": "2019-11-15T19:20:05.527051Z"
    }
   },
   "outputs": [],
   "source": [
    "sns.set_style(style='white')\n",
    "a4_dims = (15, 8)\n",
    "fig, ax = pyplot.subplots(figsize=a4_dims)\n",
    "g = sns.pointplot(x=\"load (users)\", y=\"time in secons (avg of 5 runs each)\", hue=\"variant\", data=df_f)\n",
    "g.set_xticklabels(g.get_xticklabels(), rotation=45)\n",
    "plt.gcf().subplots_adjust(bottom=fig_space)\n",
    "g.get_figure().savefig(f\"../publication/images/line_white_regular_{events_per_user}_{osm_filtered_poi}.png\")"
   ]
  },
  {
   "cell_type": "code",
   "execution_count": null,
   "metadata": {
    "ExecuteTime": {
     "end_time": "2019-11-15T19:20:10.866268Z",
     "start_time": "2019-11-15T19:20:09.708494Z"
    }
   },
   "outputs": [],
   "source": [
    "sns.set_style(style='white')\n",
    "a4_dims = (15, 8)\n",
    "fig, ax = pyplot.subplots(figsize=a4_dims)\n",
    "g = sns.pointplot(x=\"load (users)\", y=\"log1p(time) in secons (avg of 5 runs each)\", hue=\"variant\", data=df_f)\n",
    "g.set_xticklabels(g.get_xticklabels(), rotation=45)\n",
    "plt.gcf().subplots_adjust(bottom=fig_space)\n",
    "g.get_figure().savefig(f\"../publication/images/line_white_log_{events_per_user}_{osm_filtered_poi}.png\")"
   ]
  },
  {
   "cell_type": "code",
   "execution_count": null,
   "metadata": {
    "ExecuteTime": {
     "end_time": "2019-11-15T19:18:09.397633Z",
     "start_time": "2019-11-15T19:18:09.362355Z"
    }
   },
   "outputs": [],
   "source": [
    "df.head()"
   ]
  },
  {
   "cell_type": "code",
   "execution_count": null,
   "metadata": {
    "ExecuteTime": {
     "end_time": "2019-11-15T19:18:11.331992Z",
     "start_time": "2019-11-15T19:18:09.399261Z"
    }
   },
   "outputs": [],
   "source": [
    "d_plot = df[df.osm_filtered_poi == osm_filtered_poi]\n",
    "for v in sorted(d_plot.variant.unique()):\n",
    "    print(v)\n",
    "    sns.set_style(style='white')\n",
    "    a4_dims = (15, 8)\n",
    "    fig, ax = pyplot.subplots(figsize=a4_dims)\n",
    "    g = sns.pointplot(x=\"load (users)\", y=\"log1p(time) in secons (avg of 5 runs each)\", hue='base_events_per_user',\n",
    "                      #markers=[\"o\", \"x\", 'd'], linestyles=[\"-\", \"--\", '---'],\n",
    "                      data=d_plot)\n",
    "    g.set_xticklabels(g.get_xticklabels(), rotation=45)\n",
    "    plt.title(v)\n",
    "    plt.gcf().subplots_adjust(bottom=fig_space)\n",
    "    g.get_figure().savefig(f\"../publication/images/run_comparison_{v}_{osm_filtered_poi}.png\")"
   ]
  },
  {
   "cell_type": "code",
   "execution_count": null,
   "metadata": {},
   "outputs": [],
   "source": []
  }
 ],
 "metadata": {
  "kernelspec": {
   "display_name": "Python 3",
   "language": "python",
   "name": "python3"
  },
  "language_info": {
   "codemirror_mode": {
    "name": "ipython",
    "version": 3
   },
   "file_extension": ".py",
   "mimetype": "text/x-python",
   "name": "python",
   "nbconvert_exporter": "python",
   "pygments_lexer": "ipython3",
   "version": "3.7.3"
  }
 },
 "nbformat": 4,
 "nbformat_minor": 2
}
